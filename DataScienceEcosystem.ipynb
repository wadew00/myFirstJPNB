{
 "cells": [
  {
   "cell_type": "markdown",
   "id": "f6a476a8-2906-4a49-9ac6-1e64cdfe0d1e",
   "metadata": {},
   "source": [
    "# Data Science Tools and Ecosystem"
   ]
  },
  {
   "cell_type": "markdown",
   "id": "d323b548-fd26-4489-a908-1cd0404a3970",
   "metadata": {},
   "source": [
    "In this notebook, Data Science Tools and Ecosystem are summarized."
   ]
  },
  {
   "cell_type": "markdown",
   "id": "76ef2f97-04d5-4c36-8a49-61f61d4abd93",
   "metadata": {},
   "source": [
    "**Objectives:**\n",
    "* List popular languages for Data Science\n",
    "* List commonly used libraries for Data Science\n",
    "* List commonly used tools for Data Science"
   ]
  },
  {
   "cell_type": "markdown",
   "id": "0808e00b-3c00-46f0-a039-38d0891b5ee2",
   "metadata": {},
   "source": [
    "Some of the popular languages that Data Scientists use are:\n",
    "1. Python\n",
    "2. R\n",
    "3. Java"
   ]
  },
  {
   "cell_type": "markdown",
   "id": "19ef6aa5-b19d-4968-b561-0ecbd6d178d8",
   "metadata": {},
   "source": [
    "Some of the commonly used libraries used by Data Scientists include:\n",
    "1. Numpy\n",
    "2. Pandas\n",
    "3. Sci-Kit Learn"
   ]
  },
  {
   "cell_type": "markdown",
   "id": "3b743ba0-b2de-4791-9f8d-be9967cbc446",
   "metadata": {},
   "source": [
    "| Data Science Tools     |\n",
    "|------------------------|\n",
    "| JupyterLab             |\n",
    "| Apache Zeppelin        |\n",
    "| Spyder                 |\n",
    "| Google Colab           |\n"
   ]
  },
  {
   "cell_type": "markdown",
   "id": "5f5da86c-8f2d-4e47-8461-0d7ec09d94f8",
   "metadata": {},
   "source": [
    "### Below are a few examples of evaluating arithmetic expressions in Python."
   ]
  },
  {
   "cell_type": "code",
   "execution_count": 3,
   "id": "55b29a47-3b8f-4e3c-a395-b2aef81fcbbb",
   "metadata": {},
   "outputs": [
    {
     "data": {
      "text/plain": [
       "17"
      ]
     },
     "execution_count": 3,
     "metadata": {},
     "output_type": "execute_result"
    }
   ],
   "source": [
    "# This a simple arithmetic expression to mutiply then add integers\n",
    "(3*4)+5"
   ]
  },
  {
   "cell_type": "code",
   "execution_count": 4,
   "id": "3d62956b-d4bb-461b-b9a0-7685bda1344a",
   "metadata": {},
   "outputs": [
    {
     "data": {
      "text/plain": [
       "3.3333333333333335"
      ]
     },
     "execution_count": 4,
     "metadata": {},
     "output_type": "execute_result"
    }
   ],
   "source": [
    "# This will convert 200 minutes to hours by diving by 60\n",
    "200/60"
   ]
  },
  {
   "cell_type": "markdown",
   "id": "874d7aae-3d34-433e-99e8-d2ab23adc766",
   "metadata": {},
   "source": [
    "## Author\n",
    "Vedat Basbugu"
   ]
  }
 ],
 "metadata": {
  "kernelspec": {
   "display_name": "Python 3 (ipykernel)",
   "language": "python",
   "name": "python3"
  },
  "language_info": {
   "codemirror_mode": {
    "name": "ipython",
    "version": 3
   },
   "file_extension": ".py",
   "mimetype": "text/x-python",
   "name": "python",
   "nbconvert_exporter": "python",
   "pygments_lexer": "ipython3",
   "version": "3.13.0"
  }
 },
 "nbformat": 4,
 "nbformat_minor": 5
}
